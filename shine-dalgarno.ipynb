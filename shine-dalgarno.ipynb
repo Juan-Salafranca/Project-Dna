{
 "cells": [
  {
   "cell_type": "code",
   "execution_count": null,
   "id": "76966807-4bdd-4ef5-a50d-60bb27a14f02",
   "metadata": {},
   "outputs": [],
   "source": [
    "def find_shine_dalgarno(sequence, shine_dalgarno=\"AGGAGG\"):\n",
    "    \"\"\"Find the Shine-Dalgarno sequence in the given DNA sequence.\"\"\"\n",
    "    index = sequence.find(shine_dalgarno)\n",
    "    if index != -1:\n",
    "        return index\n",
    "    else:\n",
    "        return None\n",
    "\n",
    "def cut_sequence(sequence, shine_dalgarno=\"AGGAGG\"):\n",
    "    \"\"\"Cut the DNA sequence based on the Shine-Dalgarno sequence.\"\"\"\n",
    "    sections = []\n",
    "    start_index = find_shine_dalgarno(sequence, shine_dalgarno)\n",
    "    if start_index is not None:\n",
    "        start_index += len(shine_dalgarno)\n",
    "        while True:\n",
    "            index = find_shine_dalgarno(sequence[start_index:], shine_dalgarno)\n",
    "            if index is not None:\n",
    "                sections.append(sequence[start_index:start_index + index])\n",
    "                start_index += index + len(shine_dalgarno)\n",
    "            else:\n",
    "                sections.append(sequence[start_index:])\n",
    "                break\n",
    "    return sections\n",
    "    \n",
    "def translate_to_uppercase(sequence):\n",
    "    \"\"\"Translate the DNA sequence to uppercase.\"\"\"\n",
    "    return sequence.upper()\n",
    "\n",
    "def filter_dna_sequence(sequence):\n",
    "    \"\"\"Filter out characters that are not 'A', 'T', 'C', or 'G'.\"\"\"\n",
    "    return ''.join(filter(lambda x: x in 'ATCG', sequence.upper()))\n",
    "\n",
    "def read_dna_sequence(filename):\n",
    "    \"\"\"Read DNA sequence from the document where the first column is empty.\"\"\"\n",
    "\n",
    "def main():\n",
    "    # Read DNA sequence from the document\n",
    "    filename = \"input.txt\"  # Specify your document filename\n",
    "    dna_sequence = read_dna_sequence(filename)\n",
    "    \n",
    "    # Filter and process DNA sequence\n",
    "    dna_sequence = filter_dna_sequence(dna_sequence)\n",
    "    sections = cut_sequence(dna_sequence)\n",
    "    \n",
    "    # Print resulting sections\n",
    "    print(\"Number of sections:\", len(sections))\n",
    "    for i, section in enumerate(sections):\n",
    "        print(f\"Section {i+1}:\", section)\n",
    "    print(dna_sequence)\n",
    "\n",
    "if __name__ == \"__main__\":\n",
    "    main()\n"
   ]
  }
 ],
 "metadata": {
  "kernelspec": {
   "display_name": "Python 3 (ipykernel)",
   "language": "python",
   "name": "python3"
  },
  "language_info": {
   "codemirror_mode": {
    "name": "ipython",
    "version": 3
   },
   "file_extension": ".py",
   "mimetype": "text/x-python",
   "name": "python",
   "nbconvert_exporter": "python",
   "pygments_lexer": "ipython3",
   "version": "3.10.13"
  }
 },
 "nbformat": 4,
 "nbformat_minor": 5
}
