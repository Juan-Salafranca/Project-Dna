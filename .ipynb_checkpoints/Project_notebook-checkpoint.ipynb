{
 "cells": [
  {
   "cell_type": "markdown",
   "id": "bd1ff867-5fbd-4e28-afa2-ac8f5e489d76",
   "metadata": {},
   "source": [
    "**Project : ADN to protein conversion"
   ]
  },
  {
   "cell_type": "code",
   "execution_count": null,
   "id": "aa1df107-57c8-429d-939e-b7bcf155b4c4",
   "metadata": {},
   "outputs": [],
   "source": []
  }
 ],
 "metadata": {
  "kernelspec": {
   "display_name": "Python 3 (ipykernel)",
   "language": "python",
   "name": "python3"
  },
  "language_info": {
   "codemirror_mode": {
    "name": "ipython",
    "version": 3
   },
   "file_extension": ".py",
   "mimetype": "text/x-python",
   "name": "python",
   "nbconvert_exporter": "python",
   "pygments_lexer": "ipython3",
   "version": "3.10.13"
  }
 },
 "nbformat": 4,
 "nbformat_minor": 5
}
