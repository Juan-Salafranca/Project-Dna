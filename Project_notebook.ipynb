{
 "cells": [
  {
   "cell_type": "markdown",
   "id": "bd1ff867-5fbd-4e28-afa2-ac8f5e489d76",
   "metadata": {},
   "source": [
    "**Project : ADN to protein conversion"
   ]
  },
  {
   "cell_type": "markdown",
   "id": "1aa7cc58-0a75-4ae5-a0dc-8ec34e86dd14",
   "metadata": {},
   "source": [
    "chat gpt code"
   ]
  },
  {
   "cell_type": "code",
   "execution_count": null,
   "id": "aa1df107-57c8-429d-939e-b7bcf155b4c4",
   "metadata": {},
   "outputs": [],
   "source": [
    "genetic_code = {\n",
    "    \"UUU\": \"F\", \"UUC\": \"F\", \"UUA\": \"L\", \"UUG\": \"L\",\n",
    "    \"UCU\": \"S\", \"UCC\": \"S\", \"UCA\": \"S\", \"UCG\": \"S\",\n",
    "    \"UAU\": \"Y\", \"UAC\": \"Y\", \"UAA\": \"*\", \"UAG\": \"*\",\n",
    "    \"UGU\": \"C\", \"UGC\": \"C\", \"UGA\": \"*\", \"UGG\": \"W\",\n",
    "    \"CUU\": \"L\", \"CUC\": \"L\", \"CUA\": \"L\", \"CUG\": \"L\",\n",
    "    \"CCU\": \"P\", \"CCC\": \"P\", \"CCA\": \"P\", \"CCG\": \"P\",\n",
    "    \"CAU\": \"H\", \"CAC\": \"H\", \"CAA\": \"Q\", \"CAG\": \"Q\",\n",
    "    \"CGU\": \"R\", \"CGC\": \"R\", \"CGA\": \"R\", \"CGG\": \"R\",\n",
    "    \"AUU\": \"I\", \"AUC\": \"I\", \"AUA\": \"I\", \"AUG\": \"M\",\n",
    "    \"ACU\": \"T\", \"ACC\": \"T\", \"ACA\": \"T\", \"ACG\": \"T\",\n",
    "    \"AAU\": \"N\", \"AAC\": \"N\", \"AAA\": \"K\", \"AAG\": \"K\",\n",
    "    \"AGU\": \"S\", \"AGC\": \"S\", \"AGA\": \"R\", \"AGG\": \"R\",\n",
    "    \"GUU\": \"V\", \"GUC\": \"V\", \"GUA\": \"V\", \"GUG\": \"V\",\n",
    "    \"GCU\": \"A\", \"GCC\": \"A\", \"GCA\": \"A\", \"GCG\": \"A\",\n",
    "    \"GAU\": \"D\", \"GAC\": \"D\", \"GAA\": \"E\", \"GAG\": \"E\",\n",
    "    \"GGU\": \"G\", \"GGC\": \"G\", \"GGA\": \"G\", \"GGG\": \"G\"\n",
    "}\n",
    "\n",
    "def transcribe_dna_to_rna(dna_sequence):\n",
    "    return dna_sequence.replace('T', 'U')\n",
    "\n",
    "def reverse_transcribe_rna_to_dna(rna_sequence):\n",
    "    return rna_sequence.replace('U', 'T')\n",
    "\n",
    "def find_start_codon(dna_sequence, sd_sequence):\n",
    "    sd_index = dna_sequence.find(sd_sequence)\n",
    "    if sd_index == -1:\n",
    "        return -1\n",
    "    start_index = sd_index + len(sd_sequence) + 9\n",
    "    return start_index\n",
    "\n",
    "def translate_dna_with_sd(dna_sequence, sd_sequence):\n",
    "    start_index = find_start_codon(dna_sequence, sd_sequence)\n",
    "    if start_index == -1:\n",
    "        return \"Start codon not found\"\n",
    "    dna_sequence = dna_sequence[start_index:]\n",
    "    protein_sequence = \"\"\n",
    "    for i in range(0, len(dna_sequence), 3):\n",
    "        codon = dna_sequence[i:i+3]\n",
    "        if codon in genetic_code:\n",
    "            amino_acid = genetic_code[codon]\n",
    "            if amino_acid == \"*\":\n",
    "                break\n",
    "            protein_sequence += amino_acid\n",
    "        else:\n",
    "            protein_sequence += \"X\"\n",
    "    return protein_sequence\n",
    "\n",
    "def translate_rna_to_protein(rna_sequence):\n",
    "    protein_sequence = \"\"\n",
    "    for i in range(0, len(rna_sequence), 3):\n",
    "        codon = rna_sequence[i:i+3]\n",
    "        if codon in genetic_code:\n",
    "            amino_acid = genetic_code[codon]\n",
    "            if amino_acid == \"*\":\n",
    "                break\n",
    "            protein_sequence += amino_acid\n",
    "        else:\n",
    "            protein_sequence += \"X\"\n",
    "    return protein_sequence"
   ]
  }
 ],
 "metadata": {
  "kernelspec": {
   "display_name": "Python 3 (ipykernel)",
   "language": "python",
   "name": "python3"
  },
  "language_info": {
   "codemirror_mode": {
    "name": "ipython",
    "version": 3
   },
   "file_extension": ".py",
   "mimetype": "text/x-python",
   "name": "python",
   "nbconvert_exporter": "python",
   "pygments_lexer": "ipython3",
   "version": "3.10.13"
  }
 },
 "nbformat": 4,
 "nbformat_minor": 5
}
