{
 "cells": [
  {
   "cell_type": "markdown",
   "id": "bd1ff867-5fbd-4e28-afa2-ac8f5e489d76",
   "metadata": {},
   "source": [
    "# Project : ADN to protein conversion"
   ]
  },
  {
   "cell_type": "markdown",
   "id": "75c12611-0fc3-4b39-a003-5cc3b1b2bbba",
   "metadata": {},
   "source": [
    "   "
   ]
  },
  {
   "cell_type": "code",
   "execution_count": 24,
   "id": "c737d217-1148-4bd5-88d8-3c7f9d6cec4b",
   "metadata": {},
   "outputs": [],
   "source": [
    "def separate_sections(filename):\n",
    "    \"\"\"Read the file and separate sections of DNA into strings.\"\"\"\n",
    "    sections = []\n",
    "    current_section = \"\"\n",
    "    with open(filename, \"r\") as file:\n",
    "        for line in file:\n",
    "            line = line.strip()\n",
    "            if line == \"//\":\n",
    "                sections.append(current_section)\n",
    "                current_section = \"\"\n",
    "            else:\n",
    "                current_section += line\n",
    "    return sections\n",
    "\n",
    "# Example usage:\n",
    "sections = separate_sections(\"output.txt\")\n"
   ]
  },
  {
   "cell_type": "markdown",
   "id": "edd2aef0-2c7f-44f0-812a-612bcc95b873",
   "metadata": {},
   "source": [
    "First, we extract the genetic code from a file and we create a dictionary that we can use later."
   ]
  },
  {
   "cell_type": "code",
   "execution_count": 25,
   "id": "f609e93b-1a0b-44ba-a2a5-9e8a1179ccfc",
   "metadata": {},
   "outputs": [],
   "source": [
    "def read_genetic_code(filename):\n",
    "    genetic_code = {}\n",
    "    with open(filename, 'r') as file:\n",
    "        for line in file:\n",
    "            codon, amino_acid = line.strip().split()\n",
    "            genetic_code[codon] = amino_acid\n",
    "    return genetic_code\n",
    "\n",
    "# Example usage:\n",
    "genetic_code = read_genetic_code(\"genetic_code.txt\")"
   ]
  },
  {
   "cell_type": "markdown",
   "id": "f5179c86-8c44-4e0b-9d81-6688a85bdda6",
   "metadata": {},
   "source": [
    "Next, we can make functions that transcribe the inputted DNA into the respective RNA. Then, we can find the important parts of that dna code by locating the start codons in the string of ARN."
   ]
  },
  {
   "cell_type": "code",
   "execution_count": 26,
   "id": "7420267c-a0f8-46ef-a346-e068f3e19b5b",
   "metadata": {},
   "outputs": [],
   "source": [
    "def transcribe_dna_to_rna(dna_sequence):\n",
    "    return dna_sequence.replace('T', 'U')\n",
    "    \n",
    "\n",
    "def find_start_codons_rna(rna_sequence):\n",
    "    start_codons = []\n",
    "    for i in range(len(rna_sequence)):\n",
    "        if rna_sequence[i:i+3] == \"AUG\":\n",
    "            start_codons.append(i)\n",
    "    if not start_codons:  # If start_codons is empty\n",
    "        return -1\n",
    "    return start_codons\n"
   ]
  },
  {
   "cell_type": "markdown",
   "id": "bb8b4f5e-1cf3-4b1f-ad76-c26e410f748d",
   "metadata": {},
   "source": [
    "Now that the indexes of the start codons have been obtained, we can start the translation of the protein from this value. In this part, the codons are identified, and the function searches for the amino acid linked to a respective codon in the dictionary of the genetic code previously created."
   ]
  },
  {
   "cell_type": "code",
   "execution_count": 27,
   "id": "564a96c7-adcf-48f0-98b7-a00e6cbee0fd",
   "metadata": {},
   "outputs": [],
   "source": [
    "def translate_rna_to_protein(rna_sequence):\n",
    "    start_index = find_start_codons_rna(rna_sequence)\n",
    "    if start_index == -1:  # No start codon found\n",
    "        return \"Start codon not found\"\n",
    "    rna_sequence = rna_sequence[start_index[0]:]  # Use the first start index\n",
    "    protein_sequence = \"\"\n",
    "    for i in range(0, len(rna_sequence) - 2, 3):\n",
    "        codon = rna_sequence[i:i+3]\n",
    "        if codon in genetic_code:\n",
    "            amino_acid = genetic_code[codon]\n",
    "            if amino_acid == \"*\":\n",
    "                break\n",
    "            protein_sequence += amino_acid\n",
    "        else:\n",
    "            protein_sequence += \"X\"\n",
    "    return protein_sequence\n"
   ]
  },
  {
   "cell_type": "markdown",
   "id": "055a3bde-2934-415d-b164-5361c74443e1",
   "metadata": {},
   "source": [
    "To read all the proteins that can be translated from the other strand of DNA, we must first find the complementary strand. Then, we also need the following flip function because ADN transcriptase only reads in the direction 5' to 3', if we want to be able to read the complementary brand of ARN correctly, we must flip it. "
   ]
  },
  {
   "cell_type": "code",
   "execution_count": 28,
   "id": "7b42763e-8738-4896-b0ef-c542c64cba39",
   "metadata": {},
   "outputs": [],
   "source": [
    "\n",
    "def complementary_sequences(dna_sequence):\n",
    "    complementary_dna = {'A': 'T', 'T': 'A', 'C': 'G', 'G': 'C'}\n",
    "\n",
    "    # Generate complementary DNA sequence\n",
    "    comp_dna_sequence = ''.join(complementary_dna[base] for base in dna_sequence)\n",
    "\n",
    "    return comp_dna_sequence\n",
    "\n",
    "\n",
    "def flip_rna_sequence(rna_sequence):\n",
    "    return rna_sequence[::-1]\n"
   ]
  },
  {
   "cell_type": "markdown",
   "id": "d0ff6b7d-aad6-4bfa-8b8e-7c57bf024acb",
   "metadata": {},
   "source": [
    "The next function serves to read the different frames in a strand, starting at all the different possibilities for start codons."
   ]
  },
  {
   "cell_type": "code",
   "execution_count": 29,
   "id": "02849499-fece-4b61-9e3a-a09774216131",
   "metadata": {},
   "outputs": [],
   "source": [
    "def translate_rna_to_proteins_all_frames(rna_sequence):\n",
    "    proteins = []\n",
    "    for start_index in find_start_codons_rna(rna_sequence):\n",
    "        protein_sequence = translate_rna_to_protein(rna_sequence[start_index:])\n",
    "        proteins.append(protein_sequence)\n",
    "    return proteins\n"
   ]
  },
  {
   "cell_type": "markdown",
   "id": "2db8f768-c427-4013-b5ab-d6d040c2b56b",
   "metadata": {},
   "source": [
    "The following function is used to transform the one letter representation of an amino acid into a three letter representation."
   ]
  },
  {
   "cell_type": "code",
   "execution_count": 30,
   "id": "502efa79-7009-4bbe-a53d-9067fa4065de",
   "metadata": {},
   "outputs": [],
   "source": [
    "\n",
    "def translate_one_letter_to_three_letter_list(one_letter_sequences):\n",
    "    three_letter_code = {\n",
    "        \"A\": \"Ala\", \"C\": \"Cys\", \"D\": \"Asp\", \"E\": \"Glu\",\n",
    "        \"F\": \"Phe\", \"G\": \"Gly\", \"H\": \"His\", \"I\": \"Ile\",\n",
    "        \"K\": \"Lys\", \"L\": \"Leu\", \"M\": \"Met\", \"N\": \"Asn\",\n",
    "        \"P\": \"Pro\", \"Q\": \"Gln\", \"R\": \"Arg\", \"S\": \"Ser\",\n",
    "        \"T\": \"Thr\", \"V\": \"Val\", \"W\": \"Trp\", \"Y\": \"Tyr\",\n",
    "        \"*\": \"Stop\"\n",
    "    }\n",
    "    three_letter_sequences = []\n",
    "    for one_letter_sequence in one_letter_sequences:\n",
    "        three_letter_sequence = [three_letter_code.get(aa, \"Unknown\") for aa in one_letter_sequence]\n",
    "        three_letter_sequences.append(\"-\".join(three_letter_sequence))\n",
    "    return three_letter_sequences\n"
   ]
  },
  {
   "cell_type": "markdown",
   "id": "b88233e0-7713-4598-acf6-1ea148bff5b4",
   "metadata": {},
   "source": [
    "These functions contribute to the layout of the final output given by the code "
   ]
  },
  {
   "cell_type": "code",
   "execution_count": 31,
   "id": "27ee2576-5f42-44e9-83af-17fdae464b7c",
   "metadata": {},
   "outputs": [],
   "source": [
    "\n",
    "def print_proteins_in_frames1L53(protein_sequence_list):\n",
    "    for i, protein in enumerate(protein_sequence_list, start=1):\n",
    "        print(f\"Frame {i} ,C5'-C3', 1 letters : {protein}\")\n",
    "\n",
    "def print_proteins_in_frames3L53(protein_sequence_list):\n",
    "    for i, protein in enumerate(protein_sequence_list, start=1):\n",
    "        print(f\"Frame {i} ,C5'-C3', 3 letters : {protein}\")\n",
    "\n",
    "def print_proteins_in_frames1L35(protein_sequence_list):\n",
    "    for i, protein in enumerate(protein_sequence_list, start=1):\n",
    "        print(f\"Frame {i} ,C3'-C5', 1 letters : {protein}\")\n",
    "\n",
    "def print_proteins_in_frames3L35(protein_sequence_list):\n",
    "    for i, protein in enumerate(protein_sequence_list, start=1):\n",
    "        print(f\"Frame {i} ,C3'-C5', 3 letters : {protein}\")\n",
    "        \n"
   ]
  },
  {
   "cell_type": "markdown",
   "id": "cd833f5b-f623-4ffe-9d97-24612ee4c05f",
   "metadata": {},
   "source": [
    "This calls the functions above using the input data:"
   ]
  },
  {
   "cell_type": "code",
   "execution_count": 32,
   "id": "95bf9722-6437-4315-aff4-98c770243d9f",
   "metadata": {},
   "outputs": [],
   "source": [
    "import os\n",
    "import pandas as pd\n",
    "\n",
    "def main(dna_sequence, output_folder, section_number):\n",
    "    # Translate RNA to protein with start codon \"AUG\" for 5'3'\n",
    "    protein_sequence_rna53 = translate_rna_to_proteins_all_frames(rna_sequence)\n",
    "    \n",
    "    # Find the complementary of the DNA and RNA sequences\n",
    "    dna_sequence35 = complementary_sequences(dna_sequence)\n",
    "    rna_sequence35 = transcribe_dna_to_rna(dna_sequence35)\n",
    "    rna_sequence35_inv = flip_rna_sequence(rna_sequence35)\n",
    "    \n",
    "    # Translate RNA to protein with start codon \"AUG\" for 5'3'\n",
    "    protein_sequence_rna35 = translate_rna_to_proteins_all_frames(rna_sequence35_inv)\n",
    "    \n",
    "    # Translating one-letter symbol amino acid into three\n",
    "    protein_sequence_3letters53 = translate_one_letter_to_three_letter_list(protein_sequence_rna53)\n",
    "    protein_sequence_3letters35 = translate_one_letter_to_three_letter_list(protein_sequence_rna35)\n",
    "    \n",
    "    # Create DataFrames for displaying protein sequences\n",
    "    df1L53 = pd.DataFrame(protein_sequence_rna53, columns=[\"Frame 1L (5'->3')\"])\n",
    "    df3L53 = pd.DataFrame(protein_sequence_3letters53, columns=[\"Frame 3L (5'->3')\"])\n",
    "    df1L35 = pd.DataFrame(protein_sequence_rna35, columns=[\"Frame 1L (3'->5')\"])\n",
    "    df3L35 = pd.DataFrame(protein_sequence_3letters35, columns=[\"Frame 3L (3'->5')\"])\n",
    "    \n",
    "    # Save DataFrames to a single CSV file\n",
    "    output_folder = os.getcwd()  # Get current working directory\n",
    "    with pd.ExcelWriter(f\"{output_folder}/section_large.{section_number}.xlsx\") as writer:\n",
    "        df1L53.to_excel(writer, sheet_name=\"Frame 1L (5'->3')\")\n",
    "        df3L53.to_excel(writer, sheet_name=\"Frame 3L (5'->3')\")\n",
    "        df1L35.to_excel(writer, sheet_name=\"Frame 1L (3'->5')\")\n",
    "        df3L35.to_excel(writer, sheet_name=\"Frame 3L (3'->5')\")\n",
    "\n",
    "output_folder = \"output_folder\"\n",
    "for i in range(len(sections)):\n",
    "    dna_sequence = sections[i]\n",
    "    rna_sequence = transcribe_dna_to_rna(dna_sequence)\n",
    "    main(dna_sequence, output_folder, i+1)\n"
   ]
  },
  {
   "cell_type": "code",
   "execution_count": null,
   "id": "6ea17879-550a-4389-9211-791012a59721",
   "metadata": {},
   "outputs": [],
   "source": []
  },
  {
   "cell_type": "code",
   "execution_count": null,
   "id": "82853e59-24d1-4dc1-83d2-fc01f45e0749",
   "metadata": {},
   "outputs": [],
   "source": []
  }
 ],
 "metadata": {
  "kernelspec": {
   "display_name": "Python 3 (ipykernel)",
   "language": "python",
   "name": "python3"
  },
  "language_info": {
   "codemirror_mode": {
    "name": "ipython",
    "version": 3
   },
   "file_extension": ".py",
   "mimetype": "text/x-python",
   "name": "python",
   "nbconvert_exporter": "python",
   "pygments_lexer": "ipython3",
   "version": "3.10.13"
  }
 },
 "nbformat": 4,
 "nbformat_minor": 5
}
