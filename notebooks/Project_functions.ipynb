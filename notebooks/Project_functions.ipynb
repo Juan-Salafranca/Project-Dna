{
 "cells": [
  {
   "cell_type": "markdown",
   "id": "bd1ff867-5fbd-4e28-afa2-ac8f5e489d76",
   "metadata": {},
   "source": [
    "# Project : ADN-PROT - Functions explanations and analysis\n",
    "\n",
    "---"
   ]
  },
  {
   "cell_type": "markdown",
   "id": "d163d9ee-9128-4279-8cec-e5261dcc0590",
   "metadata": {},
   "source": [
    "This function, `find_shine_dalgarno`, serves to locate the Shine-Dalgarno sequence within a provided DNA sequence. The Shine-Dalgarno sequence, typically represented by \"AGGAGG\" by default but customizable, is a conserved nucleotide sequence in bacterial mRNA that is crucial for initiating translation"
   ]
  },
  {
   "cell_type": "code",
   "execution_count": 1,
   "id": "36ff21ae-41b0-41f2-9482-f53971a59923",
   "metadata": {},
   "outputs": [],
   "source": [
    "def find_shine_dalgarno(sequence, shine_dalgarno=\"AGGAGG\"):\n",
    "    index = sequence.find(shine_dalgarno)\n",
    "    if index != -1:\n",
    "        return index\n",
    "    else:\n",
    "        return None"
   ]
  },
  {
   "cell_type": "markdown",
   "id": "0641c7ce-7630-4f6d-80a5-e6d2d851ada9",
   "metadata": {},
   "source": [
    "The `cut_sequence function` is designed to segment a DNA sequence based on the occurrence of the Shine-Dalgarno sequence within it. The resulting sections, representing distinct segments of the DNA sequence, are stored in a list and returned by the function."
   ]
  },
  {
   "cell_type": "code",
   "execution_count": 2,
   "id": "8c048c08-8668-4dc7-b0b6-7eb7d617f8e4",
   "metadata": {},
   "outputs": [],
   "source": [
    "def cut_sequence(sequence, shine_dalgarno=\"AGGAGG\"):\n",
    "    sections = []\n",
    "    start_index = find_shine_dalgarno(sequence, shine_dalgarno)\n",
    "    if start_index is not None:\n",
    "        start_index += len(shine_dalgarno)\n",
    "        while True:\n",
    "            index = find_shine_dalgarno(sequence[start_index:], shine_dalgarno)\n",
    "            if index is not None:\n",
    "                sections.append(sequence[start_index:start_index + index])\n",
    "                start_index += index + len(shine_dalgarno)\n",
    "            else:\n",
    "                sections.append(sequence[start_index:])\n",
    "                break\n",
    "    return sections"
   ]
  },
  {
   "cell_type": "markdown",
   "id": "06499b50-3b15-4894-9922-e7a4aee93c3c",
   "metadata": {},
   "source": [
    "The `translate_to_uppercase` function converts a given DNA sequence into uppercase letters, ensuring uniformity in representation for downstream analysis.\n",
    "\n"
   ]
  },
  {
   "cell_type": "code",
   "execution_count": 3,
   "id": "7f95861a-9821-42db-bf15-b3faccea4d33",
   "metadata": {},
   "outputs": [],
   "source": [
    "def translate_to_uppercase(sequence):\n",
    "    return sequence.upper()"
   ]
  },
  {
   "cell_type": "markdown",
   "id": "65a9f5dd-0108-4d37-85e2-f37d815e6b54",
   "metadata": {},
   "source": [
    "The `filter_dna_sequence` function sanitizes DNA sequences by retaining only nucleotide characters ('A', 'T', 'C', or 'G') and discarding any other characters. The resulting sanitized DNA sequence is returned as the output. This function is pivotal for preprocessing genomic data, ensuring the integrity and validity of genetic analysis outcomes."
   ]
  },
  {
   "cell_type": "code",
   "execution_count": 4,
   "id": "adbf49e8-0af6-4872-b254-4ab2a35c66a3",
   "metadata": {},
   "outputs": [],
   "source": [
    "def filter_dna_sequence(sequence):\n",
    "    \"\"\"Filter out characters that are not 'A', 'T', 'C', or 'G'.\"\"\"\n",
    "    return ''.join(filter(lambda x: x in 'ATCG', sequence.upper()))\n"
   ]
  },
  {
   "cell_type": "markdown",
   "id": "f947bd28-e5df-4111-89ba-c907b9b66344",
   "metadata": {},
   "source": [
    "The `read_dna_sequence` function parses DNA sequences from a document where the first column is empty. It iterates through the file content, starting reading from the first line with a space and stopping at \"//\". Within each line, it extracts DNA sequences delimited by space and \"//\", appending them to the output sequence. This function efficiently extracts DNA sequences from formatted documents, enabling streamlined genomic data extraction for further analysis."
   ]
  },
  {
   "cell_type": "code",
   "execution_count": 5,
   "id": "9b78a16d-adcc-4fd2-b2b2-091f2742d103",
   "metadata": {},
   "outputs": [],
   "source": [
    "def read_dna_sequence(filename):\n",
    "    \"\"\"Read DNA sequence from the document where the first column is empty.\"\"\"\n",
    "    sequence = \"\"\n",
    "    read_started = False\n",
    "    with open(filename, 'r') as file:\n",
    "        for line in file:\n",
    "            if not read_started:\n",
    "                if line.startswith(\" \"):\n",
    "                    read_started = True  # Start reading from the first line with a space\n",
    "            else:\n",
    "                if line.strip() == \"//\":  # Stop reading if encounter \"//\"\n",
    "                    read_started = False  # Reset flag to allow reading subsequent sequences\n",
    "                else:\n",
    "                    # Find the start and stop points within the line\n",
    "                    start_index = line.find(' ')\n",
    "                    while start_index != -1:  # Loop as long as there are occurrences of ' '\n",
    "                        # Find the next occurrence of '//' after the start_index\n",
    "                        stop_index = line.find('//', start_index)\n",
    "                        if stop_index == -1:\n",
    "                            stop_index = len(line)  # If no more occurrences found, read till the end of the line\n",
    "                        # Add the content between ' ' and '//' to the sequence\n",
    "                        sequence += line[start_index:stop_index]\n",
    "\n",
    "                        # Find the next start_index after the current stop_index\n",
    "                        start_index = line.find(' ', stop_index)\n",
    "\n",
    "    return sequence\n"
   ]
  },
  {
   "cell_type": "markdown",
   "id": "cd24ec9a-ca08-4980-8fc5-aefb7acdaba8",
   "metadata": {},
   "source": [
    "The function `separate_sections` reads a file and divides sections of DNA sequences into separate strings based on the \"//\" delimiter. It initializes an empty list to store the sections and a variable to hold the current section being read. Then, it iterates through each line of the file, stripping whitespace characters. When it encounters a line containing \"//\", it appends the accumulated section to the list and resets the current section. Finally, it returns the list of separated DNA sequence sections."
   ]
  },
  {
   "cell_type": "code",
   "execution_count": 6,
   "id": "c737d217-1148-4bd5-88d8-3c7f9d6cec4b",
   "metadata": {},
   "outputs": [],
   "source": [
    "def separate_sections(filename):\n",
    "    \"\"\"Read the file and separate sections of DNA into strings.\"\"\"\n",
    "    sections = []\n",
    "    current_section = \"\"\n",
    "    with open(filename, \"r\") as file:\n",
    "        for line in file:\n",
    "            line = line.strip()\n",
    "            if line == \"//\":\n",
    "                sections.append(current_section)\n",
    "                current_section = \"\"\n",
    "            else:\n",
    "                current_section += line\n",
    "    return sections\n",
    "\n",
    "if __name__ == \"__main__\":\n",
    "    sections = separate_sections(\"output.txt\")\n"
   ]
  },
  {
   "cell_type": "markdown",
   "id": "6ca10135-4f51-430e-b99c-be25610edc8a",
   "metadata": {},
   "source": [
    "The `ReadShineDalgarnoFromTxt` function reads DNA sequences from a specified document, processes them, and writes the resulting sections to an output file. It ensures the input filename is valid, reads the DNA sequence using the `read_dna_sequence` function, filters and processes the sequence using `filter_dna_sequence` and `cut_sequence` functions respectively. Finally, it writes the processed sections to an output file named \"output.txt\", separating them with \"//\". This function serves for processing DNA sequences from documents, facilitating efficient data extraction and analysis."
   ]
  },
  {
   "cell_type": "code",
   "execution_count": 7,
   "id": "8b5808c8-c04f-4749-9161-a5772230467b",
   "metadata": {},
   "outputs": [
    {
     "name": "stdout",
     "output_type": "stream",
     "text": [
      "Sections written to output.txt\n"
     ]
    }
   ],
   "source": [
    "\n",
    "def ReadShineDalgarnoFromTxt(filename: str):\n",
    "    \"\"\"Read DNA sequence from the document and process it.\"\"\"\n",
    "    if not isinstance(filename, str):\n",
    "        raise TypeError(\"Filename must be a string\")\n",
    "    \n",
    "    # Read DNA sequence from the document\n",
    "    dna_sequence = read_dna_sequence(filename)\n",
    "    \n",
    "    # Filter and process DNA sequence\n",
    "    dna_sequence = filter_dna_sequence(dna_sequence)\n",
    "    sections = cut_sequence(dna_sequence)\n",
    "    \n",
    "    # Write resulting sections to a file\n",
    "    with open(\"output.txt\", \"w\") as file:\n",
    "        for i, section in enumerate(sections):\n",
    "            file.write(section + \"\\n\")\n",
    "            if i < len(sections) - 1:\n",
    "                file.write(\"//\\n\")  # Separate sections with \"//\"\n",
    "        file.write(\"//\\n\")\n",
    "    \n",
    "    print(\"Sections written to output.txt\")\n",
    "    sections = separate_sections(\"output.txt\")\n",
    "    return sections\n",
    "\n",
    "\n",
    "if __name__ == \"__main__\":\n",
    "    filename= 'input.txt'\n",
    "    ReadShineDalgarnoFromTxt(filename)\n"
   ]
  },
  {
   "cell_type": "markdown",
   "id": "edd2aef0-2c7f-44f0-812a-612bcc95b873",
   "metadata": {},
   "source": [
    "The `read_genetic_code` function reads a file containing genetic code data, where each line consists of a codon and its corresponding amino acid. It parses each line, splitting it into a codon and an amino acid, and stores them in a dictionary. Finally, it returns the genetic code dictionary."
   ]
  },
  {
   "cell_type": "code",
   "execution_count": 8,
   "id": "f609e93b-1a0b-44ba-a2a5-9e8a1179ccfc",
   "metadata": {},
   "outputs": [],
   "source": [
    "def read_genetic_code(filename):\n",
    "    genetic_code = {}\n",
    "    with open(filename, 'r') as file:\n",
    "        for line in file:\n",
    "            codon, amino_acid = line.strip().split()\n",
    "            genetic_code[codon] = amino_acid\n",
    "    return genetic_code\n"
   ]
  },
  {
   "cell_type": "markdown",
   "id": "f5179c86-8c44-4e0b-9d81-6688a85bdda6",
   "metadata": {},
   "source": [
    "The`transcribe_dna_to_rna` function replaces all occurrences of 'T' with 'U' in a given DNA sequence, effectively transcribing it to RNA.\n",
    "\n",
    "The `find_start_codons_rna` function iterates through an RNA sequence to identify start codons ('AUG'). It returns the indices of all identified start codons, or -1 if none are found."
   ]
  },
  {
   "cell_type": "code",
   "execution_count": 9,
   "id": "7420267c-a0f8-46ef-a346-e068f3e19b5b",
   "metadata": {},
   "outputs": [],
   "source": [
    "def transcribe_dna_to_rna(dna_sequence):\n",
    "    return dna_sequence.replace('T', 'U')\n",
    "    \n",
    "\n",
    "def find_start_codons_rna(rna_sequence):\n",
    "    start_codons = []\n",
    "    for i in range(len(rna_sequence)):\n",
    "        if rna_sequence[i:i+3] == \"AUG\":\n",
    "            start_codons.append(i)\n",
    "    if not start_codons:  # If start_codons is empty\n",
    "        return -1\n",
    "    return start_codons\n"
   ]
  },
  {
   "cell_type": "markdown",
   "id": "bb8b4f5e-1cf3-4b1f-ad76-c26e410f748d",
   "metadata": {},
   "source": [
    "The `translate_rna_to_protein` function translates an RNA sequence into a protein sequence using a genetic code provided in a file named \"genetic_code.txt\". It starts translation from the first found start codon ('AUG') in the RNA sequence and stops translation if it encounters a stop codon ("
   ]
  },
  {
   "cell_type": "code",
   "execution_count": 10,
   "id": "564a96c7-adcf-48f0-98b7-a00e6cbee0fd",
   "metadata": {},
   "outputs": [],
   "source": [
    "def translate_rna_to_protein(rna_sequence):\n",
    "    genetic_code = read_genetic_code(\"genetic_code.txt\")\n",
    "    start_index = find_start_codons_rna(rna_sequence)\n",
    "    if start_index == -1:  # No start codon found\n",
    "        return \"Start codon not found\"\n",
    "    rna_sequence = rna_sequence[start_index[0]:]  # Use the first start index\n",
    "    protein_sequence = \"\"\n",
    "    for i in range(0, len(rna_sequence) - 2, 3):\n",
    "        codon = rna_sequence[i:i+3]\n",
    "        if codon in genetic_code:\n",
    "            amino_acid = genetic_code[codon]\n",
    "            if amino_acid == \"*\":\n",
    "                break\n",
    "            protein_sequence += amino_acid\n",
    "        else:\n",
    "            protein_sequence += \"X\"\n",
    "    return protein_sequence\n"
   ]
  },
  {
   "cell_type": "markdown",
   "id": "055a3bde-2934-415d-b164-5361c74443e1",
   "metadata": {},
   "source": [
    "To read all the proteins that can be translated from the other strand of DNA, we must first find the complementary strand. Then, we also need the following flip function because ADN transcriptase only reads in the direction 5' to 3', if we want to be able to read the complementary brand of ARN correctly, we must flip it. \n",
    "\n",
    "The `complementary_sequences` function generates the complementary DNA sequence for a given DNA sequence by replacing each nucleotide with its complementary base pair (A with T, T with A, C with G, and G with C).\n",
    "\n",
    "The `flip_rna_sequence` function reverses the given RNA sequence, effectively flipping it from 5' to 3' orientation to 3' to 5' orientation."
   ]
  },
  {
   "cell_type": "code",
   "execution_count": 11,
   "id": "7b42763e-8738-4896-b0ef-c542c64cba39",
   "metadata": {},
   "outputs": [],
   "source": [
    "\n",
    "def complementary_sequences(dna_sequence):\n",
    "    complementary_dna = {'A': 'T', 'T': 'A', 'C': 'G', 'G': 'C'}\n",
    "\n",
    "    # Generate complementary DNA sequence\n",
    "    comp_dna_sequence = ''.join(complementary_dna[base] for base in dna_sequence)\n",
    "\n",
    "    return comp_dna_sequence\n",
    "\n",
    "\n",
    "def flip_rna_sequence(rna_sequence):\n",
    "    return rna_sequence[::-1]\n"
   ]
  },
  {
   "cell_type": "markdown",
   "id": "d0ff6b7d-aad6-4bfa-8b8e-7c57bf024acb",
   "metadata": {},
   "source": [
    "The `translate_rna_to_proteins_all_frames` function translates the given RNA sequence into proteins starting from all possible start codon positions. It iterates through the indices of start codons in the RNA sequence, translates the RNA sequence to protein starting from each start codon, and appends the resulting protein sequence to a list of proteins. Finally, it returns the list of translated protein sequences."
   ]
  },
  {
   "cell_type": "code",
   "execution_count": 20,
   "id": "02849499-fece-4b61-9e3a-a09774216131",
   "metadata": {},
   "outputs": [],
   "source": [
    "def translate_rna_to_proteins_all_frames(rna_sequence):\n",
    "    proteins = []\n",
    "    for start_index in find_start_codons_rna(rna_sequence):\n",
    "        protein_sequence = translate_rna_to_protein(rna_sequence[start_index:])\n",
    "        proteins.append(protein_sequence)\n",
    "    return proteins\n"
   ]
  },
  {
   "cell_type": "markdown",
   "id": "2db8f768-c427-4013-b5ab-d6d040c2b56b",
   "metadata": {},
   "source": [
    "The following function: `translate_one_letter_to_three_letter_list` is used to transform the one letter representation of an amino acid into a three letter representation."
   ]
  },
  {
   "cell_type": "code",
   "execution_count": 13,
   "id": "502efa79-7009-4bbe-a53d-9067fa4065de",
   "metadata": {},
   "outputs": [],
   "source": [
    "\n",
    "def translate_one_letter_to_three_letter_list(one_letter_sequences):\n",
    "    three_letter_code = {\n",
    "        \"A\": \"Ala\", \"C\": \"Cys\", \"D\": \"Asp\", \"E\": \"Glu\",\n",
    "        \"F\": \"Phe\", \"G\": \"Gly\", \"H\": \"His\", \"I\": \"Ile\",\n",
    "        \"K\": \"Lys\", \"L\": \"Leu\", \"M\": \"Met\", \"N\": \"Asn\",\n",
    "        \"P\": \"Pro\", \"Q\": \"Gln\", \"R\": \"Arg\", \"S\": \"Ser\",\n",
    "        \"T\": \"Thr\", \"V\": \"Val\", \"W\": \"Trp\", \"Y\": \"Tyr\",\n",
    "        \"*\": \"Stop\"\n",
    "    }\n",
    "    three_letter_sequences = []\n",
    "    for one_letter_sequence in one_letter_sequences:\n",
    "        three_letter_sequence = [three_letter_code.get(aa, \"Unknown\") for aa in one_letter_sequence]\n",
    "        three_letter_sequences.append(\"-\".join(three_letter_sequence))\n",
    "    return three_letter_sequences\n"
   ]
  },
  {
   "cell_type": "markdown",
   "id": "c68feea7-0917-47a0-bdb4-f7ebff25da71",
   "metadata": {},
   "source": [
    "Using the Kyte & Doolittle hydropathic scale we can determine the hydrophobic or hydrophilic character of a protein knowing its amino acids. The more positive the hydropathic score, the more hydrophobic the protein. This is donde by the following protein:\n",
    "\n",
    "The `calculate_hydrophobicity` function computes the hydrophobicity score of a given protein sequence based on tbis predefined hydrophobicity scale for each amino acid. It initializes a total score variable to 0 and iterates through each amino acid in the protein sequence, accumulating the corresponding hydrophobicity score. If an invalid amino acid is encountered, it raises a ValueError. Finally, it returns the total hydrophobicity score of the protein."
   ]
  },
  {
   "cell_type": "code",
   "execution_count": 14,
   "id": "82853e59-24d1-4dc1-83d2-fc01f45e0749",
   "metadata": {},
   "outputs": [
    {
     "name": "stdout",
     "output_type": "stream",
     "text": [
      "Hydrophobicity score: -9.8\n"
     ]
    }
   ],
   "source": [
    "def calculate_hydrophobicity(protein: str) -> float:\n",
    "    hydrophobicity_scale = {\n",
    "        'A': 1.800,  # Alanine\n",
    "        'R': -4.500, # Arginine\n",
    "        'N': -3.500, # Asparagine\n",
    "        'D': -3.500, # Aspartic Acid\n",
    "        'C': 2.500,  # Cysteine\n",
    "        'Q': -3.500, # Glutamine\n",
    "        'E': -3.500, # Glutamic Acid\n",
    "        'G': -0.400, # Glycine\n",
    "        'H': -3.200, # Histidine\n",
    "        'I': 4.500,  # Isoleucine\n",
    "        'L': 3.800,  # Leucine\n",
    "        'K': -3.900, # Lysine\n",
    "        'M': 1.900,  # Methionine\n",
    "        'F': 2.800,  # Phenylalanine\n",
    "        'P': -1.600, # Proline\n",
    "        'S': -0.800, # Serine\n",
    "        'T': -0.700, # Threonine\n",
    "        'W': -0.900, # Tryptophan\n",
    "        'Y': -1.300, # Tyrosine\n",
    "        'V': 4.200   # Valine\n",
    "    }\n",
    "    \n",
    "    total_score = 0.0\n",
    "    for amino_acid in protein:\n",
    "        if amino_acid in hydrophobicity_scale:\n",
    "            total_score += hydrophobicity_scale[amino_acid]\n",
    "        else:\n",
    "            raise ValueError(f\"Invalid amino acid: {amino_acid}\")\n",
    "    \n",
    "    return total_score\n",
    "\n"
   ]
  },
  {
   "cell_type": "markdown",
   "id": "c80f6c8c-4a9d-4a54-8484-b2c6f3fb79ed",
   "metadata": {},
   "source": [
    "This function: `calculate_molecular_weight` calculates the molecular weight of a protein given its structure:"
   ]
  },
  {
   "cell_type": "code",
   "execution_count": 15,
   "id": "36339ef7-b573-4eda-8ded-0b07b76b5d25",
   "metadata": {},
   "outputs": [
    {
     "name": "stdout",
     "output_type": "stream",
     "text": [
      "Total molecular weight: 2735.0\n"
     ]
    }
   ],
   "source": [
    "def calculate_molecular_weight(protein: str) -> float:\n",
    "    molecular_weights = {\n",
    "        'A': 89.000,  # Alanine\n",
    "        'R': 174.000, # Arginine\n",
    "        'N': 132.000, # Asparagine\n",
    "        'D': 133.000, # Aspartic Acid\n",
    "        'C': 121.000, # Cysteine\n",
    "        'Q': 146.000, # Glutamine\n",
    "        'E': 147.000, # Glutamic Acid\n",
    "        'G': 75.000,  # Glycine\n",
    "        'H': 155.000, # Histidine\n",
    "        'I': 131.000, # Isoleucine\n",
    "        'L': 131.000, # Leucine\n",
    "        'K': 146.000, # Lysine\n",
    "        'M': 149.000, # Methionine\n",
    "        'F': 165.000, # Phenylalanine\n",
    "        'P': 115.000, # Proline\n",
    "        'S': 105.000, # Serine\n",
    "        'T': 119.000, # Threonine\n",
    "        'W': 204.000, # Tryptophan\n",
    "        'Y': 181.000, # Tyrosine\n",
    "        'V': 117.000  # Valine\n",
    "    }\n",
    "    \n",
    "    total_weight = 0.0\n",
    "    for amino_acid in protein:\n",
    "        if amino_acid in molecular_weights:\n",
    "            total_weight += molecular_weights[amino_acid]\n",
    "        else:\n",
    "            raise ValueError(f\"Invalid amino acid: {amino_acid}\")\n",
    "    \n",
    "    return total_weight\n",
    "\n",
    "# Example usage:\n",
    "protein_sequence = \"ACDEFGHIKLMNPQRSTVWY\"\n",
    "print(f\"Total molecular weight: {calculate_molecular_weight(protein_sequence)}\")"
   ]
  },
  {
   "cell_type": "markdown",
   "id": "01929c99-7e0e-4487-ad42-666a23902ab3",
   "metadata": {},
   "source": [
    "`calculate_configuration_likelihoods` is a function that calculates scores for beta-sheet, alpha-helix and beta-turn likeliness using values provided next for each amino acid in a protein sequence. This values were obtained from the Chou and Fasman scales. Then, it looks for the highest score and shows which configuration is most likely."
   ]
  },
  {
   "cell_type": "code",
   "execution_count": 16,
   "id": "8d54e404-b989-4e44-be6f-a98c89fa8ffe",
   "metadata": {},
   "outputs": [],
   "source": [
    "def calculate_configuration_likelihoods(protein: str):\n",
    "    beta_sheet = {\n",
    "        'A': 0.830, 'R': 0.930, 'N': 0.890, 'D': 0.540, 'C': 1.190, 'Q': 1.100, 'E': 0.370,\n",
    "        'G': 0.750, 'H': 0.870, 'I': 1.600, 'L': 1.300, 'K': 0.740, 'M': 1.050, 'F': 1.380,\n",
    "        'P': 0.550, 'S': 0.750, 'T': 1.190, 'W': 1.370, 'Y': 1.470, 'V': 1.700\n",
    "    }\n",
    "\n",
    "    alpha_helix = {\n",
    "        'A': 1.420, 'R': 0.980, 'N': 0.670, 'D': 1.010, 'C': 0.700, 'Q': 1.110, 'E': 1.510,\n",
    "        'G': 0.570, 'H': 1.000, 'I': 1.080, 'L': 1.210, 'K': 1.160, 'M': 1.450, 'F': 1.130,\n",
    "        'P': 0.570, 'S': 0.770, 'T': 0.830, 'W': 1.080, 'Y': 0.690, 'V': 1.060\n",
    "    }\n",
    "\n",
    "    beta_turn = {\n",
    "        'A': 0.660, 'R': 0.950, 'N': 1.560, 'D': 1.460, 'C': 1.190, 'Q': 0.980, 'E': 0.740,\n",
    "        'G': 1.560, 'H': 0.950, 'I': 0.470, 'L': 0.590, 'K': 1.010, 'M': 0.600, 'F': 0.600,\n",
    "        'P': 1.520, 'S': 1.430, 'T': 0.960, 'W': 0.960, 'Y': 1.140, 'V': 0.500\n",
    "    }\n",
    "\n",
    "    def calculate_score(protein, score_dict):\n",
    "        total_score = 0.0\n",
    "        for amino_acid in protein:\n",
    "            if amino_acid in score_dict:\n",
    "                total_score += score_dict[amino_acid]\n",
    "            else:\n",
    "                raise ValueError(f\"Invalid amino acid: {amino_acid}\")\n",
    "        return total_score\n",
    "\n",
    "    beta_sheet_score = calculate_score(protein, beta_sheet)\n",
    "    alpha_helix_score = calculate_score(protein, alpha_helix)\n",
    "    beta_turn_score = calculate_score(protein, beta_turn)\n",
    "\n",
    "    scores = {\n",
    "        'beta-sheet': beta_sheet_score,\n",
    "        'alpha-helix': alpha_helix_score,\n",
    "        'beta-turn': beta_turn_score\n",
    "    }\n",
    "\n",
    "    highest_likelihood = max(scores, key=scores.get)\n",
    "    highest_score = scores[highest_likelihood]\n",
    "\n",
    "    return highest_likelihood, highest_score, beta_sheet_score, alpha_helix_score, beta_turn_score\n"
   ]
  },
  {
   "cell_type": "markdown",
   "id": "627b5f05-de6d-4e18-982d-bca23da77a4b",
   "metadata": {},
   "source": [
    "This function uses the same method to calculate the retention coefficients for an HPLC in TFA for proteins using the Brownee scale."
   ]
  },
  {
   "cell_type": "code",
   "execution_count": 17,
   "id": "4ab42839-a83b-4f77-94a7-f180b3476ad0",
   "metadata": {},
   "outputs": [
    {
     "name": "stdout",
     "output_type": "stream",
     "text": [
      "Retention coefficient: 50.4\n"
     ]
    }
   ],
   "source": [
    "def calculate_retention_coefficient(protein: str) -> float:\n",
    "    retention_coefficients = {\n",
    "        'A': 7.300,   # Alanine\n",
    "        'R': -3.600,  # Arginine\n",
    "        'N': -5.700,  # Asparagine\n",
    "        'D': -2.900,  # Aspartic Acid\n",
    "        'C': -9.200,  # Cysteine\n",
    "        'Q': -0.300,  # Glutamine\n",
    "        'E': -7.100,  # Glutamic Acid\n",
    "        'G': -1.200,  # Glycine\n",
    "        'H': -2.100,  # Histidine\n",
    "        'I': 6.600,   # Isoleucine\n",
    "        'L': 20.000,  # Leucine\n",
    "        'K': -3.700,  # Lysine\n",
    "        'M': 5.600,   # Methionine\n",
    "        'F': 19.200,  # Phenylalanine\n",
    "        'P': 5.100,   # Proline\n",
    "        'S': -4.100,  # Serine\n",
    "        'T': 0.800,   # Threonine\n",
    "        'W': 16.300,  # Tryptophan\n",
    "        'Y': 5.900,   # Tyrosine\n",
    "        'V': 3.500    # Valine\n",
    "    }\n",
    "    \n",
    "    total_retention = 0.0\n",
    "    for amino_acid in protein:\n",
    "        if amino_acid in retention_coefficients:\n",
    "            total_retention += retention_coefficients[amino_acid]\n",
    "        else:\n",
    "            raise ValueError(f\"Invalid amino acid: {amino_acid}\")\n",
    "    \n",
    "    return total_retention\n",
    "\n"
   ]
  },
  {
   "cell_type": "markdown",
   "id": "bbe0acb9-6190-4d65-a4bf-d6408d3b3c05",
   "metadata": {},
   "source": [
    "The `calculate_polarity_score` function calculates the polarity score of a given protein sequence based on a predefined polarity Zimmerman scale for each amino acid. It initializes a total polarity variable to 0 and iterates through each amino acid in the protein sequence, accumulating the corresponding polarity score. If an invalid amino acid is encountered, it raises a ValueError. Finally, it returns the total polarity score of the protein."
   ]
  },
  {
   "cell_type": "code",
   "execution_count": 18,
   "id": "0125d6ea-9625-45c9-b931-7c0040977c56",
   "metadata": {},
   "outputs": [],
   "source": [
    "def calculate_polarity_score(protein: str) -> float:\n",
    "    polarity_scores = {\n",
    "        'A': 0.000,   # Alanine\n",
    "        'R': 52.000,  # Arginine\n",
    "        'N': 3.380,   # Asparagine\n",
    "        'D': 49.700,  # Aspartic Acid\n",
    "        'C': 1.480,   # Cysteine\n",
    "        'Q': 3.530,   # Glutamine\n",
    "        'E': 49.900,  # Glutamic Acid\n",
    "        'G': 0.000,   # Glycine\n",
    "        'H': 51.600,  # Histidine\n",
    "        'I': 0.130,   # Isoleucine\n",
    "        'L': 0.130,   # Leucine\n",
    "        'K': 49.500,  # Lysine\n",
    "        'M': 1.430,   # Methionine\n",
    "        'F': 0.350,   # Phenylalanine\n",
    "        'P': 1.580,   # Proline\n",
    "        'S': 1.670,   # Serine\n",
    "        'T': 1.660,   # Threonine\n",
    "        'W': 2.100,   # Tryptophan\n",
    "        'Y': 1.610,   # Tyrosine\n",
    "        'V': 0.130    # Valine\n",
    "    }\n",
    "    \n",
    "    total_polarity = 0.0\n",
    "    for amino_acid in protein:\n",
    "        if amino_acid in polarity_scores:\n",
    "            total_polarity += polarity_scores[amino_acid]\n",
    "        else:\n",
    "            raise ValueError(f\"Invalid amino acid: {amino_acid}\")\n",
    "    \n",
    "    return total_polarity"
   ]
  },
  {
   "cell_type": "markdown",
   "id": "cd833f5b-f623-4ffe-9d97-24612ee4c05f",
   "metadata": {},
   "source": [
    "The `get_unique_folder_path` function generates a unique folder path based on the provided base folder path. It starts with the base folder path and iterates, appending a suffix (in parentheses) with a counter value if a folder with the same path already exists. This process continues until a unique folder path is obtained. Finally, it returns the unique folder path."
   ]
  },
  {
   "cell_type": "code",
   "execution_count": null,
   "id": "32f29bfc-7502-411d-afc9-7cc029396111",
   "metadata": {},
   "outputs": [],
   "source": [
    "import os\n",
    "import pandas as pd\n",
    "\n",
    "def get_unique_folder_path(base_folder):\n",
    "    \"\"\"\n",
    "    This function takes a base folder path and returns a unique folder path by adding a suffix if the folder already exists.\n",
    "    \"\"\"\n",
    "    counter = 1\n",
    "    unique_folder = base_folder\n",
    "    while os.path.exists(unique_folder):\n",
    "        unique_folder = f\"{base_folder}({counter})\"\n",
    "        counter += 1\n",
    "    return unique_folder"
   ]
  },
  {
   "cell_type": "markdown",
   "id": "991ebcd8-c096-4af0-9301-149dd0f7b6f5",
   "metadata": {},
   "source": [
    "The `DNA_ToProtExcl_Analysis` function performs comprehensive analysis on DNA sequences. It iterates through each DNA section provided, transcribes them into RNA, and translates them into protein sequences in both 5' to 3' and 3' to 5' frames. It then computes various properties such as hydrophobicity, molecular weight, retention coefficient, beta-sheet, alpha-helix, beta-turn scores, and polarity for each protein sequence. Finally, it creates Excel files containing the analysis results for each section in the specified output folder."
   ]
  },
  {
   "cell_type": "code",
   "execution_count": 19,
   "id": "95bf9722-6437-4315-aff4-98c770243d9f",
   "metadata": {},
   "outputs": [],
   "source": [
    "\n",
    "\n",
    "def DNA_ToProtExcl_Analysis(sections, section_number=None, output_folder=None):\n",
    "    if section_number is None:\n",
    "        section_number = 1\n",
    "    if output_folder is None:\n",
    "        base_output_folder = os.path.join(os.getcwd(), \"DNAtoPROT_results\")\n",
    "        output_folder = get_unique_folder_path(base_output_folder)\n",
    "        os.makedirs(output_folder)\n",
    "\n",
    "    # If sections is a list of DNA sequences\n",
    "    if isinstance(sections, list):\n",
    "        for i in range(len(sections)):\n",
    "            dna_sequence = sections[i]\n",
    "            DNA_ToProtExcl_Analysis(dna_sequence, i + 1, output_folder)\n",
    "    else:\n",
    "        dna_sequence = sections\n",
    "        rna_sequence = transcribe_dna_to_rna(dna_sequence)\n",
    "\n",
    "        # Translate RNA to protein with start codon \"AUG\" for 5'3'\n",
    "        protein_sequence_rna53 = translate_rna_to_proteins_all_frames(rna_sequence)\n",
    "        \n",
    "        # Find the complementary of the DNA and RNA sequences\n",
    "        dna_sequence35 = complementary_sequences(dna_sequence)\n",
    "        rna_sequence35 = transcribe_dna_to_rna(dna_sequence35)\n",
    "        rna_sequence35_inv = flip_rna_sequence(rna_sequence35)\n",
    "        \n",
    "        # Translate RNA to protein with start codon \"AUG\" for 5'3'\n",
    "        protein_sequence_rna35 = translate_rna_to_proteins_all_frames(rna_sequence35_inv)\n",
    "        \n",
    "        # Translating one-letter symbol amino acid into three\n",
    "        protein_sequence_3letters53 = translate_one_letter_to_three_letter_list(protein_sequence_rna53)\n",
    "        protein_sequence_3letters35 = translate_one_letter_to_three_letter_list(protein_sequence_rna35)\n",
    "\n",
    "        # Compute additional properties\n",
    "        hydrophobicity_53 = [calculate_hydrophobicity(protein) for protein in protein_sequence_rna53]\n",
    "        molecular_weight_53 = [calculate_molecular_weight(protein) for protein in protein_sequence_rna53]\n",
    "        retention_coefficient_53 = [calculate_retention_coefficient(protein) for protein in protein_sequence_rna53]\n",
    "        config_likelihoods_53 = [calculate_configuration_likelihoods(protein) for protein in protein_sequence_rna53]\n",
    "        polarity_53 = [calculate_polarity_score(protein) for protein in protein_sequence_rna53]\n",
    "\n",
    "        hydrophobicity_35 = [calculate_hydrophobicity(protein) for protein in protein_sequence_rna35]\n",
    "        molecular_weight_35 = [calculate_molecular_weight(protein) for protein in protein_sequence_rna35]\n",
    "        retention_coefficient_35 = [calculate_retention_coefficient(protein) for protein in protein_sequence_rna35]\n",
    "        config_likelihoods_35 = [calculate_configuration_likelihoods(protein) for protein in protein_sequence_rna35]\n",
    "        polarity_35 = [calculate_polarity_score(protein) for protein in protein_sequence_rna35]\n",
    "\n",
    "        # Create DataFrames for displaying protein sequences\n",
    "        df53 = pd.DataFrame({\n",
    "            \"Frame 1L (5'->3')\": protein_sequence_rna53,\n",
    "            \"Frame 3L (5'->3')\": protein_sequence_3letters53,\n",
    "            \"Hydrophobicity\": hydrophobicity_53,\n",
    "            \"Molecular Weight\": molecular_weight_53,\n",
    "            \"Retention Coefficient\": retention_coefficient_53,\n",
    "            \"beta-sheet score\": [beta_sheet for _, _, beta_sheet, _, _ in config_likelihoods_53],\n",
    "            \"alpha-helix score\": [alpha_helix for _, _, _, alpha_helix, _ in config_likelihoods_53],\n",
    "            \"beta-turn score\": [beta_turn for _, _, _, _, beta_turn in config_likelihoods_53],\n",
    "            \"Most probable configuration\": [likelihood for likelihood, _, _, _, _ in config_likelihoods_53],\n",
    "            \"polarity\": polarity_53\n",
    "        })\n",
    "\n",
    "        df35 = pd.DataFrame({\n",
    "            \"Frame 1L (3'->5')\": protein_sequence_rna35,\n",
    "            \"Frame 3L (3'->5')\": protein_sequence_3letters35,\n",
    "            \"Hydrophobicity\": hydrophobicity_35,\n",
    "            \"Molecular Weight\": molecular_weight_35,\n",
    "            \"Retention Coefficient\": retention_coefficient_35,\n",
    "            \"beta-sheet score\": [beta_sheet for _, _, beta_sheet, _, _ in config_likelihoods_35],\n",
    "            \"alpha-helix score\": [alpha_helix for _, _, _, alpha_helix, _ in config_likelihoods_35],\n",
    "            \"beta-turn score\": [beta_turn for _, _, _, _, beta_turn in config_likelihoods_35],\n",
    "            \"Most probable configuration\": [likelihood for likelihood, _, _, _, _ in config_likelihoods_35],\n",
    "            \"polarity\": polarity_35\n",
    "        })\n",
    "\n",
    "        # Create output file path\n",
    "        output_file = os.path.join(output_folder, f\"section_{section_number}.xlsx\")\n",
    "        \n",
    "        with pd.ExcelWriter(output_file) as writer:\n",
    "            df53.to_excel(writer, sheet_name=\"Frame (5'->3')\")\n",
    "            df35.to_excel(writer, sheet_name=\"Frame (3'->5')\")\n",
    "\n",
    "if __name__ == \"__main__\":\n",
    "    DNA_ToProtExcl_Analysis(sections)"
   ]
  }
 ],
 "metadata": {
  "kernelspec": {
   "display_name": "Python 3 (ipykernel)",
   "language": "python",
   "name": "python3"
  },
  "language_info": {
   "codemirror_mode": {
    "name": "ipython",
    "version": 3
   },
   "file_extension": ".py",
   "mimetype": "text/x-python",
   "name": "python",
   "nbconvert_exporter": "python",
   "pygments_lexer": "ipython3",
   "version": "3.10.13"
  }
 },
 "nbformat": 4,
 "nbformat_minor": 5
}
