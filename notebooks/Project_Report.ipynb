{
 "cells": [
  {
   "cell_type": "markdown",
   "id": "48cb0d13-0acf-4180-b57c-b5180081d814",
   "metadata": {},
   "source": [
    "<div style=\"text-align: center;\">\n",
    "  <img src=\"./project_logo.jpg\" alt=\"Alt text\" width=\"400\" height=\"400\">\n",
    "</div>\n",
    "\n",
    "# DNA-PROT\n",
    "\n",
    "---"
   ]
  },
  {
   "cell_type": "markdown",
   "id": "f98edcc2-2fb2-44ca-bdea-7483ee46d718",
   "metadata": {},
   "source": [
    "\n",
    "## 1.0 Introduction\n",
    "\n",
    "The DNA-PROT Package is a Python package designed for various analyses on DNA and protein sequences. The package includes functions to translate and transcribe ADN into a protein sequence and analyse it by calculating the hydrophobicity score, molecular weight, secondary structure configuration likelihoods (beta-sheet, alpha-helix, and beta-turn), the retention coefficient in High-Performance Liquid Chromatography (HPLC), and the polarity score.\n",
    "\n",
    "The Protein Analysis Package is a versatile tool designed for professionals, educators, and students in the fields of  biochemistry, molecular biology and genetics. It is an useful resource for analyzing and understanding protein sequences, predicting structural configurations, and facilitating educational activities. Whether for research, drug development, or teaching, this package offers essential tools for anyone working with proteins and DNA.\n",
    "\n",
    "---"
   ]
  },
  {
   "cell_type": "markdown",
   "id": "4da75dab-8822-4520-ad2c-2eeb2c6da908",
   "metadata": {},
   "source": [
    "## 2.0 Functionality and features"
   ]
  },
  {
   "cell_type": "markdown",
   "id": "54b8d77a-f642-4bd7-93a1-f8fc6a180dac",
   "metadata": {},
   "source": [
    "This Python package is designed to facilitate the analysis of DNA sequences, with a specific focus on identifying Shine-Dalgarno sequences, processing and translating DNA to RNA and protein sequences, and calculating various properties of the resulting proteins. \n",
    "\n",
    "The package is able to extract the DNA information from a text file in the usual genome format by detecting a shine-dalgarno sequence and then translate the ADN into the sequence of the proteins it contains in *all possible reading frames*. In addition to this our package is also able to then analyse the proteins and gives 5 major characteristics of the protein: Molecular weight , configuration likelihood ,hydrophobicity, polarity score, and the retention factor in an HPLC in TFA. With this info extracted, the package is then able to create a dataset with these mentionned properties for each of the all possible amino acid sequences read from the original DNA file.\n",
    "\n",
    "The project_functions notebook shows all the functions in the project and explains how they work, however, below is a description of the main functions and their functionalities: "
   ]
  },
  {
   "cell_type": "markdown",
   "id": "e6d92506-5cbd-4933-a069-a0ec42b4db17",
   "metadata": {
    "jp-MarkdownHeadingCollapsed": true
   },
   "source": [
    "### 2.1 Sequence Manipulation and Analysis\n",
    "\n",
    "**Functions:**\n",
    "- `find_shine_dalgarno(sequence, shine_dalgarno=\"AGGAGG\")`\n",
    "- `cut_sequence(sequence, shine_dalgarno=\"AGGAGG\")`\n",
    "- `translate_to_uppercase(sequence)`\n",
    "- `filter_dna_sequence(sequence)`\n",
    "- `read_dna_sequence(filename)`\n",
    "- `separate_sections(filename)`\n",
    "\n",
    "**Description:**\n",
    "These functions handle various tasks related to the manipulation and analysis of DNA sequences. They include locating the Shine-Dalgarno sequence, cutting sequences based on this motif, translating sequences to uppercase, filtering sequences to retain only valid nucleotide characters, and reading sequences from files.\n",
    "\n",
    "### 2.2 Transcription and Translation\n",
    "\n",
    "**Functions:**\n",
    "- `transcribe_dna_to_rna(dna_sequence)`\n",
    "- `find_start_codons_rna(rna_sequence)`\n",
    "- `translate_rna_to_protein(rna_sequence)`\n",
    "- `complementary_sequences(dna_sequence)`\n",
    "- `flip_rna_sequence(rna_sequence)`\n",
    "- `translate_rna_to_proteins_all_frames(rna_sequence)`\n",
    "- `read_genetic_code(filename)`\n",
    "\n",
    "**Description:**\n",
    "These functions manage the processes of transcribing DNA to RNA and translating RNA into protein sequences. They include finding start codons in RNA sequences, translating RNA to protein using a genetic code, generating complementary sequences, and translating in all possible reading frames.\n",
    "\n",
    "### 2.3 Protein Properties Calculation\n",
    "\n",
    "**Functions:**\n",
    "- `calculate_hydrophobicity(protein)`\n",
    "- `calculate_molecular_weight(protein)`\n",
    "- `calculate_retention_coefficient(protein)`\n",
    "- `calculate_polarity_score(protein)`\n",
    "- `calculate_configuration_likelihoods(protein)`\n",
    "\n",
    "**Description:**\n",
    "These functions calculate various properties of protein sequences, such as hydrophobicity, molecular weight, retention coefficient, polarity score, and the likelihood of different structural configurations (alpha-helix, beta-sheet, beta-turn).\n",
    "These properties are calculated on different scores determined by researchers and found in scientific papers. As the scores are based on the amino acid sequence and they do not take into account a specific protein's configuration, the results are only approximative and will be more reliable for smaller sequences of amino acids and may begin to deviate in larger peptidic structures.They however remain useful to get an idea of the order of magnitude of these properties and compare values between proteins.\n",
    "\n",
    "### 2.4 Data Processing and Output\n",
    "\n",
    "**Functions:**\n",
    "- `ReadShineDalgarnoFromTxt(filename: str)`\n",
    "- `translate_one_letter_to_three_letter_list(one_letter_sequences)`\n",
    "- `get_unique_folder_path(base_folder)`\n",
    "- `DNA_ToProtExcl_Analysis(sections, section_number=None, output_folder=None)`\n",
    "\n",
    "**Description:**\n",
    "These functions are responsible for processing data and generating output files. They handle reading and processing DNA sequences from text files, converting one-letter protein sequences to three-letter codes, ensuring unique folder paths for output, and performing comprehensive DNA to protein analysis while saving the results in Excel files.\n",
    "\n",
    "---"
   ]
  },
  {
   "cell_type": "markdown",
   "id": "b5d78117-160e-408b-b1b0-d8fc00384eb2",
   "metadata": {},
   "source": [
    "## 3.0 Limitations\n",
    "\n",
    "The scoring system for determining protein properties, such as hydrophobicity, molecular weight, retention coefficient, configuration likelihoods, and polarity, has notable limitations. It relies on simplified and generalized values for amino acids, often ignoring the complex context-dependent nature of protein behavior and 3D structural influences. This approach provides a static snapshot that does not reflect the dynamic nature of proteins or account for post-translational modifications. Environmental factors, such as pH and temperature, which significantly impact protein properties, are typically not considered. Additionally, the empirical scales used for scores can vary due to differences in experimental conditions. Over-reliance on these numerical scores may lead to incomplete interpretations, highlighting the need to complement these predictions with experimental data and structural analysis for a comprehensive understanding of protein behavior.\n",
    "\n",
    "\n",
    "---"
   ]
  },
  {
   "cell_type": "markdown",
   "id": "30799271-3d5d-4ce4-95c4-f59b381a6ede",
   "metadata": {},
   "source": [
    "## 4.0 Challenges\n",
    "\n",
    "Throughout our project, we encountered several challenges that required careful navigation. One significant hurdle was determining the most suitable output format for the extensive data generated. Given the diverse range of protein properties analyzed, including hydrophobicity, molecular weight, and configuration likelihoods for every single dna reading frame which for long strands of DNA their number can can be significant. Therefore, selecting an appropriate format was crucial. After deliberation, we settled on Excel files due to its versatility and widespread compatibility. However, this decision was not without its drawbacks, as Excel's structure is highly adaptable but may not always provide the most intuitive presentation for complex datasets. Moreover, while Excel offers flexibility, it also poses the risk of accidental alterations or misinterpretations, necessitating caution during data handling and analysis. \n",
    "\n",
    "\n",
    "---"
   ]
  },
  {
   "cell_type": "markdown",
   "id": "b0a645f3-2823-45df-8e40-b47886ab176a",
   "metadata": {},
   "source": [
    "## 5.0 Conclusion"
   ]
  },
  {
   "cell_type": "code",
   "execution_count": null,
   "id": "095b7604-411a-4121-992c-37bd64853a6b",
   "metadata": {},
   "outputs": [],
   "source": []
  },
  {
   "cell_type": "code",
   "execution_count": null,
   "id": "20e81328-48f8-498f-8adb-37d6a7c53850",
   "metadata": {},
   "outputs": [],
   "source": []
  }
 ],
 "metadata": {
  "kernelspec": {
   "display_name": "Python 3 (ipykernel)",
   "language": "python",
   "name": "python3"
  },
  "language_info": {
   "codemirror_mode": {
    "name": "ipython",
    "version": 3
   },
   "file_extension": ".py",
   "mimetype": "text/x-python",
   "name": "python",
   "nbconvert_exporter": "python",
   "pygments_lexer": "ipython3",
   "version": "3.10.13"
  }
 },
 "nbformat": 4,
 "nbformat_minor": 5
}
